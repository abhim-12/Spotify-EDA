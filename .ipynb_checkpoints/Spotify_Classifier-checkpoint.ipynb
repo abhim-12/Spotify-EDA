{
 "cells": [
  {
   "cell_type": "markdown",
   "metadata": {
    "heading_collapsed": true
   },
   "source": [
    "## Imports "
   ]
  },
  {
   "cell_type": "code",
   "execution_count": 22,
   "metadata": {
    "hidden": true
   },
   "outputs": [
    {
     "data": {
      "text/html": [
       "        <script type=\"text/javascript\">\n",
       "        window.PlotlyConfig = {MathJaxConfig: 'local'};\n",
       "        if (window.MathJax) {MathJax.Hub.Config({SVG: {font: \"STIX-Web\"}});}\n",
       "        if (typeof require !== 'undefined') {\n",
       "        require.undef(\"plotly\");\n",
       "        requirejs.config({\n",
       "            paths: {\n",
       "                'plotly': ['https://cdn.plot.ly/plotly-latest.min']\n",
       "            }\n",
       "        });\n",
       "        require(['plotly'], function(Plotly) {\n",
       "            window._Plotly = Plotly;\n",
       "        });\n",
       "        }\n",
       "        </script>\n",
       "        "
      ]
     },
     "metadata": {},
     "output_type": "display_data"
    },
    {
     "data": {
      "text/html": [
       "        <script type=\"text/javascript\">\n",
       "        window.PlotlyConfig = {MathJaxConfig: 'local'};\n",
       "        if (window.MathJax) {MathJax.Hub.Config({SVG: {font: \"STIX-Web\"}});}\n",
       "        if (typeof require !== 'undefined') {\n",
       "        require.undef(\"plotly\");\n",
       "        requirejs.config({\n",
       "            paths: {\n",
       "                'plotly': ['https://cdn.plot.ly/plotly-latest.min']\n",
       "            }\n",
       "        });\n",
       "        require(['plotly'], function(Plotly) {\n",
       "            window._Plotly = Plotly;\n",
       "        });\n",
       "        }\n",
       "        </script>\n",
       "        "
      ]
     },
     "metadata": {},
     "output_type": "display_data"
    }
   ],
   "source": [
    "import pandas as pd\n",
    "import numpy as np\n",
    "import matplotlib.pyplot as plt\n",
    "import seaborn as sns\n",
    "\n",
    "from sklearn import tree\n",
    "from sklearn.tree import DecisionTreeClassifier, export_graphviz\n",
    "from sklearn.model_selection import train_test_split\n",
    "\n",
    "import graphviz\n",
    "import pydotplus\n",
    "import io\n",
    "from scipy import misc\n",
    "\n",
    "from ipywidgets import interact\n",
    "import chart_studio.plotly as py\n",
    "import plotly.graph_objs as go\n",
    "from plotly.offline import iplot, init_notebook_mode\n",
    "import cufflinks\n",
    "import plotly.express as px\n",
    "from plotly.subplots import make_subplots\n",
    "cufflinks.go_offline(connected=True)\n",
    "init_notebook_mode(connected=True)\n",
    "\n",
    "%matplotlib inline"
   ]
  },
  {
   "cell_type": "markdown",
   "metadata": {
    "heading_collapsed": true
   },
   "source": [
    "##  Spotify Song Attributes EDA"
   ]
  },
  {
   "cell_type": "markdown",
   "metadata": {
    "hidden": true
   },
   "source": [
    "<p> <b>Download the dataset from the link:</b>      <a href=\"https://www.kaggle.com/geomack/spotifyclassification\"> Kaggle </a> </p>"
   ]
  },
  {
   "cell_type": "code",
   "execution_count": 23,
   "metadata": {
    "hidden": true,
    "scrolled": true
   },
   "outputs": [
    {
     "data": {
      "text/html": [
       "<div>\n",
       "<style scoped>\n",
       "    .dataframe tbody tr th:only-of-type {\n",
       "        vertical-align: middle;\n",
       "    }\n",
       "\n",
       "    .dataframe tbody tr th {\n",
       "        vertical-align: top;\n",
       "    }\n",
       "\n",
       "    .dataframe thead th {\n",
       "        text-align: right;\n",
       "    }\n",
       "</style>\n",
       "<table border=\"1\" class=\"dataframe\">\n",
       "  <thead>\n",
       "    <tr style=\"text-align: right;\">\n",
       "      <th></th>\n",
       "      <th>Unnamed: 0</th>\n",
       "      <th>acousticness</th>\n",
       "      <th>danceability</th>\n",
       "      <th>duration_ms</th>\n",
       "      <th>energy</th>\n",
       "      <th>instrumentalness</th>\n",
       "      <th>key</th>\n",
       "      <th>liveness</th>\n",
       "      <th>loudness</th>\n",
       "      <th>mode</th>\n",
       "      <th>speechiness</th>\n",
       "      <th>tempo</th>\n",
       "      <th>time_signature</th>\n",
       "      <th>valence</th>\n",
       "      <th>target</th>\n",
       "      <th>song_title</th>\n",
       "      <th>artist</th>\n",
       "    </tr>\n",
       "  </thead>\n",
       "  <tbody>\n",
       "    <tr>\n",
       "      <th>0</th>\n",
       "      <td>0</td>\n",
       "      <td>0.0102</td>\n",
       "      <td>0.833</td>\n",
       "      <td>204600</td>\n",
       "      <td>0.434</td>\n",
       "      <td>0.021900</td>\n",
       "      <td>2</td>\n",
       "      <td>0.1650</td>\n",
       "      <td>-8.795</td>\n",
       "      <td>1</td>\n",
       "      <td>0.4310</td>\n",
       "      <td>150.062</td>\n",
       "      <td>4.0</td>\n",
       "      <td>0.286</td>\n",
       "      <td>1</td>\n",
       "      <td>Mask Off</td>\n",
       "      <td>Future</td>\n",
       "    </tr>\n",
       "    <tr>\n",
       "      <th>1</th>\n",
       "      <td>1</td>\n",
       "      <td>0.1990</td>\n",
       "      <td>0.743</td>\n",
       "      <td>326933</td>\n",
       "      <td>0.359</td>\n",
       "      <td>0.006110</td>\n",
       "      <td>1</td>\n",
       "      <td>0.1370</td>\n",
       "      <td>-10.401</td>\n",
       "      <td>1</td>\n",
       "      <td>0.0794</td>\n",
       "      <td>160.083</td>\n",
       "      <td>4.0</td>\n",
       "      <td>0.588</td>\n",
       "      <td>1</td>\n",
       "      <td>Redbone</td>\n",
       "      <td>Childish Gambino</td>\n",
       "    </tr>\n",
       "    <tr>\n",
       "      <th>2</th>\n",
       "      <td>2</td>\n",
       "      <td>0.0344</td>\n",
       "      <td>0.838</td>\n",
       "      <td>185707</td>\n",
       "      <td>0.412</td>\n",
       "      <td>0.000234</td>\n",
       "      <td>2</td>\n",
       "      <td>0.1590</td>\n",
       "      <td>-7.148</td>\n",
       "      <td>1</td>\n",
       "      <td>0.2890</td>\n",
       "      <td>75.044</td>\n",
       "      <td>4.0</td>\n",
       "      <td>0.173</td>\n",
       "      <td>1</td>\n",
       "      <td>Xanny Family</td>\n",
       "      <td>Future</td>\n",
       "    </tr>\n",
       "    <tr>\n",
       "      <th>3</th>\n",
       "      <td>3</td>\n",
       "      <td>0.6040</td>\n",
       "      <td>0.494</td>\n",
       "      <td>199413</td>\n",
       "      <td>0.338</td>\n",
       "      <td>0.510000</td>\n",
       "      <td>5</td>\n",
       "      <td>0.0922</td>\n",
       "      <td>-15.236</td>\n",
       "      <td>1</td>\n",
       "      <td>0.0261</td>\n",
       "      <td>86.468</td>\n",
       "      <td>4.0</td>\n",
       "      <td>0.230</td>\n",
       "      <td>1</td>\n",
       "      <td>Master Of None</td>\n",
       "      <td>Beach House</td>\n",
       "    </tr>\n",
       "    <tr>\n",
       "      <th>4</th>\n",
       "      <td>4</td>\n",
       "      <td>0.1800</td>\n",
       "      <td>0.678</td>\n",
       "      <td>392893</td>\n",
       "      <td>0.561</td>\n",
       "      <td>0.512000</td>\n",
       "      <td>5</td>\n",
       "      <td>0.4390</td>\n",
       "      <td>-11.648</td>\n",
       "      <td>0</td>\n",
       "      <td>0.0694</td>\n",
       "      <td>174.004</td>\n",
       "      <td>4.0</td>\n",
       "      <td>0.904</td>\n",
       "      <td>1</td>\n",
       "      <td>Parallel Lines</td>\n",
       "      <td>Junior Boys</td>\n",
       "    </tr>\n",
       "  </tbody>\n",
       "</table>\n",
       "</div>"
      ],
      "text/plain": [
       "   Unnamed: 0  acousticness  danceability  duration_ms  energy  \\\n",
       "0           0        0.0102         0.833       204600   0.434   \n",
       "1           1        0.1990         0.743       326933   0.359   \n",
       "2           2        0.0344         0.838       185707   0.412   \n",
       "3           3        0.6040         0.494       199413   0.338   \n",
       "4           4        0.1800         0.678       392893   0.561   \n",
       "\n",
       "   instrumentalness  key  liveness  loudness  mode  speechiness    tempo  \\\n",
       "0          0.021900    2    0.1650    -8.795     1       0.4310  150.062   \n",
       "1          0.006110    1    0.1370   -10.401     1       0.0794  160.083   \n",
       "2          0.000234    2    0.1590    -7.148     1       0.2890   75.044   \n",
       "3          0.510000    5    0.0922   -15.236     1       0.0261   86.468   \n",
       "4          0.512000    5    0.4390   -11.648     0       0.0694  174.004   \n",
       "\n",
       "   time_signature  valence  target      song_title            artist  \n",
       "0             4.0    0.286       1        Mask Off            Future  \n",
       "1             4.0    0.588       1         Redbone  Childish Gambino  \n",
       "2             4.0    0.173       1    Xanny Family            Future  \n",
       "3             4.0    0.230       1  Master Of None       Beach House  \n",
       "4             4.0    0.904       1  Parallel Lines       Junior Boys  "
      ]
     },
     "execution_count": 23,
     "metadata": {},
     "output_type": "execute_result"
    }
   ],
   "source": [
    "data = pd.read_csv('data.csv')\n",
    "data2 = data.copy(deep=True)\n",
    "data.head()                         # Target - 1 if they liked the song and 0 if they did not"
   ]
  },
  {
   "cell_type": "markdown",
   "metadata": {
    "heading_collapsed": true,
    "hidden": true
   },
   "source": [
    "### <b>Number of points of each class for all Attributes </b>"
   ]
  },
  {
   "cell_type": "code",
   "execution_count": 24,
   "metadata": {
    "hidden": true
   },
   "outputs": [
    {
     "data": {
      "text/html": [
       "<div>\n",
       "<style scoped>\n",
       "    .dataframe tbody tr th:only-of-type {\n",
       "        vertical-align: middle;\n",
       "    }\n",
       "\n",
       "    .dataframe tbody tr th {\n",
       "        vertical-align: top;\n",
       "    }\n",
       "\n",
       "    .dataframe thead th {\n",
       "        text-align: right;\n",
       "    }\n",
       "</style>\n",
       "<table border=\"1\" class=\"dataframe\">\n",
       "  <thead>\n",
       "    <tr style=\"text-align: right;\">\n",
       "      <th></th>\n",
       "      <th>cols</th>\n",
       "      <th>1</th>\n",
       "      <th>0</th>\n",
       "    </tr>\n",
       "  </thead>\n",
       "  <tbody>\n",
       "    <tr>\n",
       "      <th>0</th>\n",
       "      <td>Unnamed: 0</td>\n",
       "      <td>1020</td>\n",
       "      <td>997</td>\n",
       "    </tr>\n",
       "    <tr>\n",
       "      <th>1</th>\n",
       "      <td>acousticness</td>\n",
       "      <td>1020</td>\n",
       "      <td>997</td>\n",
       "    </tr>\n",
       "    <tr>\n",
       "      <th>2</th>\n",
       "      <td>danceability</td>\n",
       "      <td>1020</td>\n",
       "      <td>997</td>\n",
       "    </tr>\n",
       "    <tr>\n",
       "      <th>3</th>\n",
       "      <td>duration_ms</td>\n",
       "      <td>1020</td>\n",
       "      <td>997</td>\n",
       "    </tr>\n",
       "    <tr>\n",
       "      <th>4</th>\n",
       "      <td>energy</td>\n",
       "      <td>1020</td>\n",
       "      <td>997</td>\n",
       "    </tr>\n",
       "    <tr>\n",
       "      <th>5</th>\n",
       "      <td>instrumentalness</td>\n",
       "      <td>1020</td>\n",
       "      <td>997</td>\n",
       "    </tr>\n",
       "    <tr>\n",
       "      <th>6</th>\n",
       "      <td>key</td>\n",
       "      <td>1020</td>\n",
       "      <td>997</td>\n",
       "    </tr>\n",
       "    <tr>\n",
       "      <th>7</th>\n",
       "      <td>liveness</td>\n",
       "      <td>1020</td>\n",
       "      <td>997</td>\n",
       "    </tr>\n",
       "    <tr>\n",
       "      <th>8</th>\n",
       "      <td>loudness</td>\n",
       "      <td>1020</td>\n",
       "      <td>997</td>\n",
       "    </tr>\n",
       "    <tr>\n",
       "      <th>9</th>\n",
       "      <td>mode</td>\n",
       "      <td>1020</td>\n",
       "      <td>997</td>\n",
       "    </tr>\n",
       "    <tr>\n",
       "      <th>10</th>\n",
       "      <td>speechiness</td>\n",
       "      <td>1020</td>\n",
       "      <td>997</td>\n",
       "    </tr>\n",
       "    <tr>\n",
       "      <th>11</th>\n",
       "      <td>tempo</td>\n",
       "      <td>1020</td>\n",
       "      <td>997</td>\n",
       "    </tr>\n",
       "    <tr>\n",
       "      <th>12</th>\n",
       "      <td>time_signature</td>\n",
       "      <td>1020</td>\n",
       "      <td>997</td>\n",
       "    </tr>\n",
       "    <tr>\n",
       "      <th>13</th>\n",
       "      <td>valence</td>\n",
       "      <td>1020</td>\n",
       "      <td>997</td>\n",
       "    </tr>\n",
       "    <tr>\n",
       "      <th>14</th>\n",
       "      <td>target</td>\n",
       "      <td>1020</td>\n",
       "      <td>997</td>\n",
       "    </tr>\n",
       "    <tr>\n",
       "      <th>15</th>\n",
       "      <td>song_title</td>\n",
       "      <td>1020</td>\n",
       "      <td>997</td>\n",
       "    </tr>\n",
       "    <tr>\n",
       "      <th>16</th>\n",
       "      <td>artist</td>\n",
       "      <td>1020</td>\n",
       "      <td>997</td>\n",
       "    </tr>\n",
       "  </tbody>\n",
       "</table>\n",
       "</div>"
      ],
      "text/plain": [
       "                cols     1    0\n",
       "0         Unnamed: 0  1020  997\n",
       "1       acousticness  1020  997\n",
       "2       danceability  1020  997\n",
       "3        duration_ms  1020  997\n",
       "4             energy  1020  997\n",
       "5   instrumentalness  1020  997\n",
       "6                key  1020  997\n",
       "7           liveness  1020  997\n",
       "8           loudness  1020  997\n",
       "9               mode  1020  997\n",
       "10       speechiness  1020  997\n",
       "11             tempo  1020  997\n",
       "12    time_signature  1020  997\n",
       "13           valence  1020  997\n",
       "14            target  1020  997\n",
       "15        song_title  1020  997\n",
       "16            artist  1020  997"
      ]
     },
     "execution_count": 24,
     "metadata": {},
     "output_type": "execute_result"
    }
   ],
   "source": [
    "ones = data[data['target']==1].count().reset_index()\n",
    "zeros = data[data['target']==0].count().reset_index()\n",
    "z = pd.merge(ones,zeros,on=\"index\",how=\"inner\")\n",
    "z.rename(columns={'0_x':1,'0_y':0,'index':'cols'},inplace=True)\n",
    "z"
   ]
  },
  {
   "cell_type": "markdown",
   "metadata": {
    "heading_collapsed": true,
    "hidden": true
   },
   "source": [
    "### <b> Summary of the dataset </b>"
   ]
  },
  {
   "cell_type": "code",
   "execution_count": 25,
   "metadata": {
    "hidden": true,
    "scrolled": true
   },
   "outputs": [
    {
     "data": {
      "text/html": [
       "<div>\n",
       "<style scoped>\n",
       "    .dataframe tbody tr th:only-of-type {\n",
       "        vertical-align: middle;\n",
       "    }\n",
       "\n",
       "    .dataframe tbody tr th {\n",
       "        vertical-align: top;\n",
       "    }\n",
       "\n",
       "    .dataframe thead th {\n",
       "        text-align: right;\n",
       "    }\n",
       "</style>\n",
       "<table border=\"1\" class=\"dataframe\">\n",
       "  <thead>\n",
       "    <tr style=\"text-align: right;\">\n",
       "      <th></th>\n",
       "      <th>Unnamed: 0</th>\n",
       "      <th>acousticness</th>\n",
       "      <th>danceability</th>\n",
       "      <th>duration_ms</th>\n",
       "      <th>energy</th>\n",
       "      <th>instrumentalness</th>\n",
       "      <th>key</th>\n",
       "      <th>liveness</th>\n",
       "      <th>loudness</th>\n",
       "      <th>mode</th>\n",
       "      <th>speechiness</th>\n",
       "      <th>tempo</th>\n",
       "      <th>time_signature</th>\n",
       "      <th>valence</th>\n",
       "      <th>target</th>\n",
       "      <th>song_title</th>\n",
       "      <th>artist</th>\n",
       "    </tr>\n",
       "  </thead>\n",
       "  <tbody>\n",
       "    <tr>\n",
       "      <th>count</th>\n",
       "      <td>2017.000000</td>\n",
       "      <td>2017.000000</td>\n",
       "      <td>2017.000000</td>\n",
       "      <td>2.017000e+03</td>\n",
       "      <td>2017.000000</td>\n",
       "      <td>2017.000000</td>\n",
       "      <td>2017.000000</td>\n",
       "      <td>2017.000000</td>\n",
       "      <td>2017.000000</td>\n",
       "      <td>2017.000000</td>\n",
       "      <td>2017.000000</td>\n",
       "      <td>2017.000000</td>\n",
       "      <td>2017.000000</td>\n",
       "      <td>2017.000000</td>\n",
       "      <td>2017.000000</td>\n",
       "      <td>2017</td>\n",
       "      <td>2017</td>\n",
       "    </tr>\n",
       "    <tr>\n",
       "      <th>unique</th>\n",
       "      <td>NaN</td>\n",
       "      <td>NaN</td>\n",
       "      <td>NaN</td>\n",
       "      <td>NaN</td>\n",
       "      <td>NaN</td>\n",
       "      <td>NaN</td>\n",
       "      <td>NaN</td>\n",
       "      <td>NaN</td>\n",
       "      <td>NaN</td>\n",
       "      <td>NaN</td>\n",
       "      <td>NaN</td>\n",
       "      <td>NaN</td>\n",
       "      <td>NaN</td>\n",
       "      <td>NaN</td>\n",
       "      <td>NaN</td>\n",
       "      <td>1956</td>\n",
       "      <td>1343</td>\n",
       "    </tr>\n",
       "    <tr>\n",
       "      <th>top</th>\n",
       "      <td>NaN</td>\n",
       "      <td>NaN</td>\n",
       "      <td>NaN</td>\n",
       "      <td>NaN</td>\n",
       "      <td>NaN</td>\n",
       "      <td>NaN</td>\n",
       "      <td>NaN</td>\n",
       "      <td>NaN</td>\n",
       "      <td>NaN</td>\n",
       "      <td>NaN</td>\n",
       "      <td>NaN</td>\n",
       "      <td>NaN</td>\n",
       "      <td>NaN</td>\n",
       "      <td>NaN</td>\n",
       "      <td>NaN</td>\n",
       "      <td>Jack</td>\n",
       "      <td>Drake</td>\n",
       "    </tr>\n",
       "    <tr>\n",
       "      <th>freq</th>\n",
       "      <td>NaN</td>\n",
       "      <td>NaN</td>\n",
       "      <td>NaN</td>\n",
       "      <td>NaN</td>\n",
       "      <td>NaN</td>\n",
       "      <td>NaN</td>\n",
       "      <td>NaN</td>\n",
       "      <td>NaN</td>\n",
       "      <td>NaN</td>\n",
       "      <td>NaN</td>\n",
       "      <td>NaN</td>\n",
       "      <td>NaN</td>\n",
       "      <td>NaN</td>\n",
       "      <td>NaN</td>\n",
       "      <td>NaN</td>\n",
       "      <td>3</td>\n",
       "      <td>16</td>\n",
       "    </tr>\n",
       "    <tr>\n",
       "      <th>mean</th>\n",
       "      <td>1008.000000</td>\n",
       "      <td>0.187590</td>\n",
       "      <td>0.618422</td>\n",
       "      <td>2.463062e+05</td>\n",
       "      <td>0.681577</td>\n",
       "      <td>0.133286</td>\n",
       "      <td>5.342588</td>\n",
       "      <td>0.190844</td>\n",
       "      <td>-7.085624</td>\n",
       "      <td>0.612295</td>\n",
       "      <td>0.092664</td>\n",
       "      <td>121.603272</td>\n",
       "      <td>3.968270</td>\n",
       "      <td>0.496815</td>\n",
       "      <td>0.505702</td>\n",
       "      <td>NaN</td>\n",
       "      <td>NaN</td>\n",
       "    </tr>\n",
       "    <tr>\n",
       "      <th>std</th>\n",
       "      <td>582.402066</td>\n",
       "      <td>0.259989</td>\n",
       "      <td>0.161029</td>\n",
       "      <td>8.198181e+04</td>\n",
       "      <td>0.210273</td>\n",
       "      <td>0.273162</td>\n",
       "      <td>3.648240</td>\n",
       "      <td>0.155453</td>\n",
       "      <td>3.761684</td>\n",
       "      <td>0.487347</td>\n",
       "      <td>0.089931</td>\n",
       "      <td>26.685604</td>\n",
       "      <td>0.255853</td>\n",
       "      <td>0.247195</td>\n",
       "      <td>0.500091</td>\n",
       "      <td>NaN</td>\n",
       "      <td>NaN</td>\n",
       "    </tr>\n",
       "    <tr>\n",
       "      <th>min</th>\n",
       "      <td>0.000000</td>\n",
       "      <td>0.000003</td>\n",
       "      <td>0.122000</td>\n",
       "      <td>1.604200e+04</td>\n",
       "      <td>0.014800</td>\n",
       "      <td>0.000000</td>\n",
       "      <td>0.000000</td>\n",
       "      <td>0.018800</td>\n",
       "      <td>-33.097000</td>\n",
       "      <td>0.000000</td>\n",
       "      <td>0.023100</td>\n",
       "      <td>47.859000</td>\n",
       "      <td>1.000000</td>\n",
       "      <td>0.034800</td>\n",
       "      <td>0.000000</td>\n",
       "      <td>NaN</td>\n",
       "      <td>NaN</td>\n",
       "    </tr>\n",
       "    <tr>\n",
       "      <th>25%</th>\n",
       "      <td>504.000000</td>\n",
       "      <td>0.009630</td>\n",
       "      <td>0.514000</td>\n",
       "      <td>2.000150e+05</td>\n",
       "      <td>0.563000</td>\n",
       "      <td>0.000000</td>\n",
       "      <td>2.000000</td>\n",
       "      <td>0.092300</td>\n",
       "      <td>-8.394000</td>\n",
       "      <td>0.000000</td>\n",
       "      <td>0.037500</td>\n",
       "      <td>100.189000</td>\n",
       "      <td>4.000000</td>\n",
       "      <td>0.295000</td>\n",
       "      <td>0.000000</td>\n",
       "      <td>NaN</td>\n",
       "      <td>NaN</td>\n",
       "    </tr>\n",
       "    <tr>\n",
       "      <th>50%</th>\n",
       "      <td>1008.000000</td>\n",
       "      <td>0.063300</td>\n",
       "      <td>0.631000</td>\n",
       "      <td>2.292610e+05</td>\n",
       "      <td>0.715000</td>\n",
       "      <td>0.000076</td>\n",
       "      <td>6.000000</td>\n",
       "      <td>0.127000</td>\n",
       "      <td>-6.248000</td>\n",
       "      <td>1.000000</td>\n",
       "      <td>0.054900</td>\n",
       "      <td>121.427000</td>\n",
       "      <td>4.000000</td>\n",
       "      <td>0.492000</td>\n",
       "      <td>1.000000</td>\n",
       "      <td>NaN</td>\n",
       "      <td>NaN</td>\n",
       "    </tr>\n",
       "    <tr>\n",
       "      <th>75%</th>\n",
       "      <td>1512.000000</td>\n",
       "      <td>0.265000</td>\n",
       "      <td>0.738000</td>\n",
       "      <td>2.703330e+05</td>\n",
       "      <td>0.846000</td>\n",
       "      <td>0.054000</td>\n",
       "      <td>9.000000</td>\n",
       "      <td>0.247000</td>\n",
       "      <td>-4.746000</td>\n",
       "      <td>1.000000</td>\n",
       "      <td>0.108000</td>\n",
       "      <td>137.849000</td>\n",
       "      <td>4.000000</td>\n",
       "      <td>0.691000</td>\n",
       "      <td>1.000000</td>\n",
       "      <td>NaN</td>\n",
       "      <td>NaN</td>\n",
       "    </tr>\n",
       "    <tr>\n",
       "      <th>max</th>\n",
       "      <td>2016.000000</td>\n",
       "      <td>0.995000</td>\n",
       "      <td>0.984000</td>\n",
       "      <td>1.004627e+06</td>\n",
       "      <td>0.998000</td>\n",
       "      <td>0.976000</td>\n",
       "      <td>11.000000</td>\n",
       "      <td>0.969000</td>\n",
       "      <td>-0.307000</td>\n",
       "      <td>1.000000</td>\n",
       "      <td>0.816000</td>\n",
       "      <td>219.331000</td>\n",
       "      <td>5.000000</td>\n",
       "      <td>0.992000</td>\n",
       "      <td>1.000000</td>\n",
       "      <td>NaN</td>\n",
       "      <td>NaN</td>\n",
       "    </tr>\n",
       "  </tbody>\n",
       "</table>\n",
       "</div>"
      ],
      "text/plain": [
       "         Unnamed: 0  acousticness  danceability   duration_ms       energy  \\\n",
       "count   2017.000000   2017.000000   2017.000000  2.017000e+03  2017.000000   \n",
       "unique          NaN           NaN           NaN           NaN          NaN   \n",
       "top             NaN           NaN           NaN           NaN          NaN   \n",
       "freq            NaN           NaN           NaN           NaN          NaN   \n",
       "mean    1008.000000      0.187590      0.618422  2.463062e+05     0.681577   \n",
       "std      582.402066      0.259989      0.161029  8.198181e+04     0.210273   \n",
       "min        0.000000      0.000003      0.122000  1.604200e+04     0.014800   \n",
       "25%      504.000000      0.009630      0.514000  2.000150e+05     0.563000   \n",
       "50%     1008.000000      0.063300      0.631000  2.292610e+05     0.715000   \n",
       "75%     1512.000000      0.265000      0.738000  2.703330e+05     0.846000   \n",
       "max     2016.000000      0.995000      0.984000  1.004627e+06     0.998000   \n",
       "\n",
       "        instrumentalness          key     liveness     loudness         mode  \\\n",
       "count        2017.000000  2017.000000  2017.000000  2017.000000  2017.000000   \n",
       "unique               NaN          NaN          NaN          NaN          NaN   \n",
       "top                  NaN          NaN          NaN          NaN          NaN   \n",
       "freq                 NaN          NaN          NaN          NaN          NaN   \n",
       "mean            0.133286     5.342588     0.190844    -7.085624     0.612295   \n",
       "std             0.273162     3.648240     0.155453     3.761684     0.487347   \n",
       "min             0.000000     0.000000     0.018800   -33.097000     0.000000   \n",
       "25%             0.000000     2.000000     0.092300    -8.394000     0.000000   \n",
       "50%             0.000076     6.000000     0.127000    -6.248000     1.000000   \n",
       "75%             0.054000     9.000000     0.247000    -4.746000     1.000000   \n",
       "max             0.976000    11.000000     0.969000    -0.307000     1.000000   \n",
       "\n",
       "        speechiness        tempo  time_signature      valence       target  \\\n",
       "count   2017.000000  2017.000000     2017.000000  2017.000000  2017.000000   \n",
       "unique          NaN          NaN             NaN          NaN          NaN   \n",
       "top             NaN          NaN             NaN          NaN          NaN   \n",
       "freq            NaN          NaN             NaN          NaN          NaN   \n",
       "mean       0.092664   121.603272        3.968270     0.496815     0.505702   \n",
       "std        0.089931    26.685604        0.255853     0.247195     0.500091   \n",
       "min        0.023100    47.859000        1.000000     0.034800     0.000000   \n",
       "25%        0.037500   100.189000        4.000000     0.295000     0.000000   \n",
       "50%        0.054900   121.427000        4.000000     0.492000     1.000000   \n",
       "75%        0.108000   137.849000        4.000000     0.691000     1.000000   \n",
       "max        0.816000   219.331000        5.000000     0.992000     1.000000   \n",
       "\n",
       "       song_title artist  \n",
       "count        2017   2017  \n",
       "unique       1956   1343  \n",
       "top          Jack  Drake  \n",
       "freq            3     16  \n",
       "mean          NaN    NaN  \n",
       "std           NaN    NaN  \n",
       "min           NaN    NaN  \n",
       "25%           NaN    NaN  \n",
       "50%           NaN    NaN  \n",
       "75%           NaN    NaN  \n",
       "max           NaN    NaN  "
      ]
     },
     "execution_count": 25,
     "metadata": {},
     "output_type": "execute_result"
    }
   ],
   "source": [
    "data.describe(include='all')b"
   ]
  },
  {
   "cell_type": "markdown",
   "metadata": {
    "heading_collapsed": true,
    "hidden": true
   },
   "source": [
    "### Check for NA's "
   ]
  },
  {
   "cell_type": "code",
   "execution_count": 118,
   "metadata": {
    "hidden": true
   },
   "outputs": [
    {
     "data": {
      "text/plain": [
       "Unnamed: 0          0\n",
       "acousticness        0\n",
       "danceability        0\n",
       "duration_ms         0\n",
       "energy              0\n",
       "instrumentalness    0\n",
       "key                 0\n",
       "liveness            0\n",
       "loudness            0\n",
       "mode                0\n",
       "speechiness         0\n",
       "tempo               0\n",
       "time_signature      0\n",
       "valence             0\n",
       "target              0\n",
       "song_title          0\n",
       "artist              0\n",
       "dtype: int64"
      ]
     },
     "execution_count": 118,
     "metadata": {},
     "output_type": "execute_result"
    }
   ],
   "source": [
    "data.isna().sum()"
   ]
  },
  {
   "cell_type": "markdown",
   "metadata": {
    "heading_collapsed": true,
    "hidden": true
   },
   "source": [
    "### <b> Correlation of Attributes </b>"
   ]
  },
  {
   "cell_type": "code",
   "execution_count": 108,
   "metadata": {
    "hidden": true,
    "scrolled": false
   },
   "outputs": [
    {
     "data": {
      "text/html": [
       "<div>\n",
       "<style scoped>\n",
       "    .dataframe tbody tr th:only-of-type {\n",
       "        vertical-align: middle;\n",
       "    }\n",
       "\n",
       "    .dataframe tbody tr th {\n",
       "        vertical-align: top;\n",
       "    }\n",
       "\n",
       "    .dataframe thead th {\n",
       "        text-align: right;\n",
       "    }\n",
       "</style>\n",
       "<table border=\"1\" class=\"dataframe\">\n",
       "  <thead>\n",
       "    <tr style=\"text-align: right;\">\n",
       "      <th></th>\n",
       "      <th>Unnamed: 0</th>\n",
       "      <th>acousticness</th>\n",
       "      <th>danceability</th>\n",
       "      <th>duration_ms</th>\n",
       "      <th>energy</th>\n",
       "      <th>instrumentalness</th>\n",
       "      <th>key</th>\n",
       "      <th>liveness</th>\n",
       "      <th>loudness</th>\n",
       "      <th>mode</th>\n",
       "      <th>speechiness</th>\n",
       "      <th>tempo</th>\n",
       "      <th>time_signature</th>\n",
       "      <th>valence</th>\n",
       "      <th>target</th>\n",
       "    </tr>\n",
       "  </thead>\n",
       "  <tbody>\n",
       "    <tr>\n",
       "      <th>Unnamed: 0</th>\n",
       "      <td>1.000000</td>\n",
       "      <td>0.133055</td>\n",
       "      <td>-0.139615</td>\n",
       "      <td>-0.104185</td>\n",
       "      <td>-0.039880</td>\n",
       "      <td>-0.104641</td>\n",
       "      <td>-0.035611</td>\n",
       "      <td>-0.039962</td>\n",
       "      <td>0.021935</td>\n",
       "      <td>0.060639</td>\n",
       "      <td>-0.135362</td>\n",
       "      <td>-0.027890</td>\n",
       "      <td>-0.053235</td>\n",
       "      <td>-0.077812</td>\n",
       "      <td>-0.865969</td>\n",
       "    </tr>\n",
       "    <tr>\n",
       "      <th>acousticness</th>\n",
       "      <td>0.133055</td>\n",
       "      <td>1.000000</td>\n",
       "      <td>-0.179894</td>\n",
       "      <td>0.071536</td>\n",
       "      <td>-0.646319</td>\n",
       "      <td>0.144397</td>\n",
       "      <td>-0.081037</td>\n",
       "      <td>-0.117126</td>\n",
       "      <td>-0.562021</td>\n",
       "      <td>0.068028</td>\n",
       "      <td>-0.099893</td>\n",
       "      <td>-0.127596</td>\n",
       "      <td>-0.190353</td>\n",
       "      <td>-0.152227</td>\n",
       "      <td>-0.129627</td>\n",
       "    </tr>\n",
       "    <tr>\n",
       "      <th>danceability</th>\n",
       "      <td>-0.139615</td>\n",
       "      <td>-0.179894</td>\n",
       "      <td>1.000000</td>\n",
       "      <td>0.004695</td>\n",
       "      <td>0.038557</td>\n",
       "      <td>-0.130561</td>\n",
       "      <td>0.022325</td>\n",
       "      <td>-0.132044</td>\n",
       "      <td>0.104362</td>\n",
       "      <td>-0.047867</td>\n",
       "      <td>0.142661</td>\n",
       "      <td>-0.143538</td>\n",
       "      <td>0.128909</td>\n",
       "      <td>0.442061</td>\n",
       "      <td>0.176706</td>\n",
       "    </tr>\n",
       "    <tr>\n",
       "      <th>duration_ms</th>\n",
       "      <td>-0.104185</td>\n",
       "      <td>0.071536</td>\n",
       "      <td>0.004695</td>\n",
       "      <td>1.000000</td>\n",
       "      <td>-0.144473</td>\n",
       "      <td>0.305403</td>\n",
       "      <td>0.023570</td>\n",
       "      <td>0.023203</td>\n",
       "      <td>-0.273798</td>\n",
       "      <td>-0.074806</td>\n",
       "      <td>-0.079562</td>\n",
       "      <td>-0.076469</td>\n",
       "      <td>-0.040157</td>\n",
       "      <td>-0.120030</td>\n",
       "      <td>0.146749</td>\n",
       "    </tr>\n",
       "    <tr>\n",
       "      <th>energy</th>\n",
       "      <td>-0.039880</td>\n",
       "      <td>-0.646319</td>\n",
       "      <td>0.038557</td>\n",
       "      <td>-0.144473</td>\n",
       "      <td>1.000000</td>\n",
       "      <td>-0.122890</td>\n",
       "      <td>0.072886</td>\n",
       "      <td>0.217435</td>\n",
       "      <td>0.762177</td>\n",
       "      <td>-0.070263</td>\n",
       "      <td>0.093102</td>\n",
       "      <td>0.165721</td>\n",
       "      <td>0.182895</td>\n",
       "      <td>0.278383</td>\n",
       "      <td>0.039688</td>\n",
       "    </tr>\n",
       "    <tr>\n",
       "      <th>instrumentalness</th>\n",
       "      <td>-0.104641</td>\n",
       "      <td>0.144397</td>\n",
       "      <td>-0.130561</td>\n",
       "      <td>0.305403</td>\n",
       "      <td>-0.122890</td>\n",
       "      <td>1.000000</td>\n",
       "      <td>-0.009640</td>\n",
       "      <td>0.001063</td>\n",
       "      <td>-0.354625</td>\n",
       "      <td>-0.030099</td>\n",
       "      <td>-0.155349</td>\n",
       "      <td>0.000347</td>\n",
       "      <td>-0.070721</td>\n",
       "      <td>-0.194630</td>\n",
       "      <td>0.152594</td>\n",
       "    </tr>\n",
       "    <tr>\n",
       "      <th>key</th>\n",
       "      <td>-0.035611</td>\n",
       "      <td>-0.081037</td>\n",
       "      <td>0.022325</td>\n",
       "      <td>0.023570</td>\n",
       "      <td>0.072886</td>\n",
       "      <td>-0.009640</td>\n",
       "      <td>1.000000</td>\n",
       "      <td>0.049739</td>\n",
       "      <td>0.050929</td>\n",
       "      <td>-0.195040</td>\n",
       "      <td>0.019116</td>\n",
       "      <td>0.040301</td>\n",
       "      <td>0.024937</td>\n",
       "      <td>0.032485</td>\n",
       "      <td>0.033594</td>\n",
       "    </tr>\n",
       "    <tr>\n",
       "      <th>liveness</th>\n",
       "      <td>-0.039962</td>\n",
       "      <td>-0.117126</td>\n",
       "      <td>-0.132044</td>\n",
       "      <td>0.023203</td>\n",
       "      <td>0.217435</td>\n",
       "      <td>0.001063</td>\n",
       "      <td>0.049739</td>\n",
       "      <td>1.000000</td>\n",
       "      <td>0.156648</td>\n",
       "      <td>-0.018587</td>\n",
       "      <td>0.092403</td>\n",
       "      <td>0.010558</td>\n",
       "      <td>0.018199</td>\n",
       "      <td>-0.053011</td>\n",
       "      <td>0.026364</td>\n",
       "    </tr>\n",
       "    <tr>\n",
       "      <th>loudness</th>\n",
       "      <td>0.021935</td>\n",
       "      <td>-0.562021</td>\n",
       "      <td>0.104362</td>\n",
       "      <td>-0.273798</td>\n",
       "      <td>0.762177</td>\n",
       "      <td>-0.354625</td>\n",
       "      <td>0.050929</td>\n",
       "      <td>0.156648</td>\n",
       "      <td>1.000000</td>\n",
       "      <td>-0.044015</td>\n",
       "      <td>0.088844</td>\n",
       "      <td>0.156418</td>\n",
       "      <td>0.143011</td>\n",
       "      <td>0.204968</td>\n",
       "      <td>-0.072000</td>\n",
       "    </tr>\n",
       "    <tr>\n",
       "      <th>mode</th>\n",
       "      <td>0.060639</td>\n",
       "      <td>0.068028</td>\n",
       "      <td>-0.047867</td>\n",
       "      <td>-0.074806</td>\n",
       "      <td>-0.070263</td>\n",
       "      <td>-0.030099</td>\n",
       "      <td>-0.195040</td>\n",
       "      <td>-0.018587</td>\n",
       "      <td>-0.044015</td>\n",
       "      <td>1.000000</td>\n",
       "      <td>-0.049398</td>\n",
       "      <td>-0.059995</td>\n",
       "      <td>-0.039038</td>\n",
       "      <td>-0.032879</td>\n",
       "      <td>-0.072336</td>\n",
       "    </tr>\n",
       "    <tr>\n",
       "      <th>speechiness</th>\n",
       "      <td>-0.135362</td>\n",
       "      <td>-0.099893</td>\n",
       "      <td>0.142661</td>\n",
       "      <td>-0.079562</td>\n",
       "      <td>0.093102</td>\n",
       "      <td>-0.155349</td>\n",
       "      <td>0.019116</td>\n",
       "      <td>0.092403</td>\n",
       "      <td>0.088844</td>\n",
       "      <td>-0.049398</td>\n",
       "      <td>1.000000</td>\n",
       "      <td>0.111359</td>\n",
       "      <td>0.113529</td>\n",
       "      <td>0.054419</td>\n",
       "      <td>0.154006</td>\n",
       "    </tr>\n",
       "    <tr>\n",
       "      <th>tempo</th>\n",
       "      <td>-0.027890</td>\n",
       "      <td>-0.127596</td>\n",
       "      <td>-0.143538</td>\n",
       "      <td>-0.076469</td>\n",
       "      <td>0.165721</td>\n",
       "      <td>0.000347</td>\n",
       "      <td>0.040301</td>\n",
       "      <td>0.010558</td>\n",
       "      <td>0.156418</td>\n",
       "      <td>-0.059995</td>\n",
       "      <td>0.111359</td>\n",
       "      <td>1.000000</td>\n",
       "      <td>-0.055918</td>\n",
       "      <td>-0.014965</td>\n",
       "      <td>0.034732</td>\n",
       "    </tr>\n",
       "    <tr>\n",
       "      <th>time_signature</th>\n",
       "      <td>-0.053235</td>\n",
       "      <td>-0.190353</td>\n",
       "      <td>0.128909</td>\n",
       "      <td>-0.040157</td>\n",
       "      <td>0.182895</td>\n",
       "      <td>-0.070721</td>\n",
       "      <td>0.024937</td>\n",
       "      <td>0.018199</td>\n",
       "      <td>0.143011</td>\n",
       "      <td>-0.039038</td>\n",
       "      <td>0.113529</td>\n",
       "      <td>-0.055918</td>\n",
       "      <td>1.000000</td>\n",
       "      <td>0.134722</td>\n",
       "      <td>0.040182</td>\n",
       "    </tr>\n",
       "    <tr>\n",
       "      <th>valence</th>\n",
       "      <td>-0.077812</td>\n",
       "      <td>-0.152227</td>\n",
       "      <td>0.442061</td>\n",
       "      <td>-0.120030</td>\n",
       "      <td>0.278383</td>\n",
       "      <td>-0.194630</td>\n",
       "      <td>0.032485</td>\n",
       "      <td>-0.053011</td>\n",
       "      <td>0.204968</td>\n",
       "      <td>-0.032879</td>\n",
       "      <td>0.054419</td>\n",
       "      <td>-0.014965</td>\n",
       "      <td>0.134722</td>\n",
       "      <td>1.000000</td>\n",
       "      <td>0.107930</td>\n",
       "    </tr>\n",
       "    <tr>\n",
       "      <th>target</th>\n",
       "      <td>-0.865969</td>\n",
       "      <td>-0.129627</td>\n",
       "      <td>0.176706</td>\n",
       "      <td>0.146749</td>\n",
       "      <td>0.039688</td>\n",
       "      <td>0.152594</td>\n",
       "      <td>0.033594</td>\n",
       "      <td>0.026364</td>\n",
       "      <td>-0.072000</td>\n",
       "      <td>-0.072336</td>\n",
       "      <td>0.154006</td>\n",
       "      <td>0.034732</td>\n",
       "      <td>0.040182</td>\n",
       "      <td>0.107930</td>\n",
       "      <td>1.000000</td>\n",
       "    </tr>\n",
       "  </tbody>\n",
       "</table>\n",
       "</div>"
      ],
      "text/plain": [
       "                  Unnamed: 0  acousticness  danceability  duration_ms  \\\n",
       "Unnamed: 0          1.000000      0.133055     -0.139615    -0.104185   \n",
       "acousticness        0.133055      1.000000     -0.179894     0.071536   \n",
       "danceability       -0.139615     -0.179894      1.000000     0.004695   \n",
       "duration_ms        -0.104185      0.071536      0.004695     1.000000   \n",
       "energy             -0.039880     -0.646319      0.038557    -0.144473   \n",
       "instrumentalness   -0.104641      0.144397     -0.130561     0.305403   \n",
       "key                -0.035611     -0.081037      0.022325     0.023570   \n",
       "liveness           -0.039962     -0.117126     -0.132044     0.023203   \n",
       "loudness            0.021935     -0.562021      0.104362    -0.273798   \n",
       "mode                0.060639      0.068028     -0.047867    -0.074806   \n",
       "speechiness        -0.135362     -0.099893      0.142661    -0.079562   \n",
       "tempo              -0.027890     -0.127596     -0.143538    -0.076469   \n",
       "time_signature     -0.053235     -0.190353      0.128909    -0.040157   \n",
       "valence            -0.077812     -0.152227      0.442061    -0.120030   \n",
       "target             -0.865969     -0.129627      0.176706     0.146749   \n",
       "\n",
       "                    energy  instrumentalness       key  liveness  loudness  \\\n",
       "Unnamed: 0       -0.039880         -0.104641 -0.035611 -0.039962  0.021935   \n",
       "acousticness     -0.646319          0.144397 -0.081037 -0.117126 -0.562021   \n",
       "danceability      0.038557         -0.130561  0.022325 -0.132044  0.104362   \n",
       "duration_ms      -0.144473          0.305403  0.023570  0.023203 -0.273798   \n",
       "energy            1.000000         -0.122890  0.072886  0.217435  0.762177   \n",
       "instrumentalness -0.122890          1.000000 -0.009640  0.001063 -0.354625   \n",
       "key               0.072886         -0.009640  1.000000  0.049739  0.050929   \n",
       "liveness          0.217435          0.001063  0.049739  1.000000  0.156648   \n",
       "loudness          0.762177         -0.354625  0.050929  0.156648  1.000000   \n",
       "mode             -0.070263         -0.030099 -0.195040 -0.018587 -0.044015   \n",
       "speechiness       0.093102         -0.155349  0.019116  0.092403  0.088844   \n",
       "tempo             0.165721          0.000347  0.040301  0.010558  0.156418   \n",
       "time_signature    0.182895         -0.070721  0.024937  0.018199  0.143011   \n",
       "valence           0.278383         -0.194630  0.032485 -0.053011  0.204968   \n",
       "target            0.039688          0.152594  0.033594  0.026364 -0.072000   \n",
       "\n",
       "                      mode  speechiness     tempo  time_signature   valence  \\\n",
       "Unnamed: 0        0.060639    -0.135362 -0.027890       -0.053235 -0.077812   \n",
       "acousticness      0.068028    -0.099893 -0.127596       -0.190353 -0.152227   \n",
       "danceability     -0.047867     0.142661 -0.143538        0.128909  0.442061   \n",
       "duration_ms      -0.074806    -0.079562 -0.076469       -0.040157 -0.120030   \n",
       "energy           -0.070263     0.093102  0.165721        0.182895  0.278383   \n",
       "instrumentalness -0.030099    -0.155349  0.000347       -0.070721 -0.194630   \n",
       "key              -0.195040     0.019116  0.040301        0.024937  0.032485   \n",
       "liveness         -0.018587     0.092403  0.010558        0.018199 -0.053011   \n",
       "loudness         -0.044015     0.088844  0.156418        0.143011  0.204968   \n",
       "mode              1.000000    -0.049398 -0.059995       -0.039038 -0.032879   \n",
       "speechiness      -0.049398     1.000000  0.111359        0.113529  0.054419   \n",
       "tempo            -0.059995     0.111359  1.000000       -0.055918 -0.014965   \n",
       "time_signature   -0.039038     0.113529 -0.055918        1.000000  0.134722   \n",
       "valence          -0.032879     0.054419 -0.014965        0.134722  1.000000   \n",
       "target           -0.072336     0.154006  0.034732        0.040182  0.107930   \n",
       "\n",
       "                    target  \n",
       "Unnamed: 0       -0.865969  \n",
       "acousticness     -0.129627  \n",
       "danceability      0.176706  \n",
       "duration_ms       0.146749  \n",
       "energy            0.039688  \n",
       "instrumentalness  0.152594  \n",
       "key               0.033594  \n",
       "liveness          0.026364  \n",
       "loudness         -0.072000  \n",
       "mode             -0.072336  \n",
       "speechiness       0.154006  \n",
       "tempo             0.034732  \n",
       "time_signature    0.040182  \n",
       "valence           0.107930  \n",
       "target            1.000000  "
      ]
     },
     "execution_count": 108,
     "metadata": {},
     "output_type": "execute_result"
    }
   ],
   "source": [
    "corr = data.corr()\n",
    "corr"
   ]
  },
  {
   "cell_type": "code",
   "execution_count": 117,
   "metadata": {
    "code_folding": [],
    "hidden": true
   },
   "outputs": [
    {
     "data": {
      "text/plain": [
       "<matplotlib.axes._subplots.AxesSubplot at 0x250b8b70>"
      ]
     },
     "execution_count": 117,
     "metadata": {},
     "output_type": "execute_result"
    },
    {
     "data": {
      "image/png": "[encoded data removed]",
      "text/plain": [
       "<Figure size 792x648 with 2 Axes>"
      ]
     },
     "metadata": {},
     "output_type": "display_data"
    }
   ],
   "source": [
    "f, ax = plt.subplots(figsize=(11, 9))\n",
    "mask = np.triu(np.ones_like(corr, dtype=np.bool))\n",
    "\n",
    "cmap = sns.diverging_palette(220, 10, as_cmap=True)\n",
    "\n",
    "sns.heatmap(corr, mask=mask,cmap=cmap, vmax=.3, center=0,\n",
    "            square=True, linewidths=.5, cbar_kws={\"shrink\": .5})"
   ]
  },
  {
   "cell_type": "markdown",
   "metadata": {
    "hidden": true
   },
   "source": [
    "<b> Setting the color palette for plotting</b>"
   ]
  },
  {
   "cell_type": "code",
   "execution_count": 29,
   "metadata": {
    "hidden": true
   },
   "outputs": [],
   "source": [
    "colors = ['skyblue','red']\n",
    "palette = sns.color_palette(colors)\n",
    "sns.set_palette(palette)\n",
    "sns.set_style('white')"
   ]
  },
  {
   "cell_type": "markdown",
   "metadata": {
    "heading_collapsed": true,
    "hidden": true
   },
   "source": [
    "### <b> Plot of Liked and Disliked Tempo in Songs</b>"
   ]
  },
  {
   "cell_type": "code",
   "execution_count": 30,
   "metadata": {
    "hidden": true
   },
   "outputs": [
    {
     "data": {
      "image/png": "[encoded data removed]",
      "text/plain": [
       "<Figure size 864x576 with 1 Axes>"
      ]
     },
     "metadata": {},
     "output_type": "display_data"
    }
   ],
   "source": [
    "ptempo = data[data['target']==1]['tempo']\n",
    "ntempo = data[data['target']==0]['tempo']\n",
    "\n",
    "fig = plt.figure(figsize=(12,8))\n",
    "plt.title('Tempo of Liked Vs Disliked Songs')\n",
    "ptempo.hist(alpha=0.5,bins=30,label='Positive')\n",
    "ntempo.hist(alpha=0.5,bins=30,label='Negative')\n",
    "plt.legend(loc='upper right')\n",
    "plt.show()"
   ]
  },
  {
   "cell_type": "code",
   "execution_count": 31,
   "metadata": {
    "hidden": true
   },
   "outputs": [],
   "source": [
    "cols = data2.columns.to_list()\n",
    "cols.remove('Unnamed: 0')\n",
    "cols.remove('time_signature')\n",
    "cols.remove('artist')\n",
    "cols.remove('song_title')\n",
    "cols.remove('target')"
   ]
  },
  {
   "cell_type": "code",
   "execution_count": 32,
   "metadata": {
    "hidden": true
   },
   "outputs": [],
   "source": [
    "data2.loc[data2['target']==1,'Category']='Like'\n",
    "data2.loc[data2['target']==0,'Category']='Dislike'"
   ]
  },
  {
   "cell_type": "markdown",
   "metadata": {
    "heading_collapsed": true,
    "hidden": true
   },
   "source": [
    "### <b> Interactive Plot of various Features</b>"
   ]
  },
  {
   "cell_type": "code",
   "execution_count": 33,
   "metadata": {
    "hidden": true
   },
   "outputs": [
    {
     "data": {
      "application/vnd.jupyter.widget-view+json": {
       "model_id": "71945f46a2234210b3550949deb5bedc",
       "version_major": 2,
       "version_minor": 0
      },
      "text/plain": [
       "interactive(children=(Dropdown(description='Attribute', options=('acousticness', 'danceability', 'duration_ms'…"
      ]
     },
     "metadata": {},
     "output_type": "display_data"
    },
    {
     "data": {
      "text/plain": [
       "<function __main__.plots(Attribute)>"
      ]
     },
     "execution_count": 33,
     "metadata": {},
     "output_type": "execute_result"
    }
   ],
   "source": [
    "def plots(Attribute):\n",
    "    title = Attribute.title() + ' of Liked Vs Disliked Songs'\n",
    "    fig = px.histogram(data2,x=Attribute,color='Category',title=title,opacity=0.8,nbins=30)#,histnorm='probability density')\n",
    "    fig.update_layout(barmode='overlay')\n",
    "    fig.show()\n",
    "interact(plots,Attribute=cols)"
   ]
  },
  {
   "cell_type": "markdown",
   "metadata": {
    "heading_collapsed": true,
    "hidden": true
   },
   "source": [
    "### Most Liked Artist"
   ]
  },
  {
   "cell_type": "code",
   "execution_count": 151,
   "metadata": {
    "hidden": true
   },
   "outputs": [
    {
     "data": {
      "text/html": [
       "<div>\n",
       "<style scoped>\n",
       "    .dataframe tbody tr th:only-of-type {\n",
       "        vertical-align: middle;\n",
       "    }\n",
       "\n",
       "    .dataframe tbody tr th {\n",
       "        vertical-align: top;\n",
       "    }\n",
       "\n",
       "    .dataframe thead th {\n",
       "        text-align: right;\n",
       "    }\n",
       "</style>\n",
       "<table border=\"1\" class=\"dataframe\">\n",
       "  <thead>\n",
       "    <tr style=\"text-align: right;\">\n",
       "      <th></th>\n",
       "      <th>index</th>\n",
       "      <th>artist</th>\n",
       "    </tr>\n",
       "  </thead>\n",
       "  <tbody>\n",
       "    <tr>\n",
       "      <th>0</th>\n",
       "      <td>Drake</td>\n",
       "      <td>13</td>\n",
       "    </tr>\n",
       "  </tbody>\n",
       "</table>\n",
       "</div>"
      ],
      "text/plain": [
       "   index  artist\n",
       "0  Drake      13"
      ]
     },
     "execution_count": 151,
     "metadata": {},
     "output_type": "execute_result"
    }
   ],
   "source": [
    "temp1 = data[data['target']==1]\n",
    "liked = temp1['artist'].value_counts().sort_values(ascending=False).reset_index()\n",
    "liked[liked['artist'] == max(liked['artist'])]"
   ]
  },
  {
   "cell_type": "markdown",
   "metadata": {
    "heading_collapsed": true,
    "hidden": true
   },
   "source": [
    "### Most Liked Songs by Top Artist "
   ]
  },
  {
   "cell_type": "code",
   "execution_count": 174,
   "metadata": {
    "hidden": true
   },
   "outputs": [
    {
     "data": {
      "text/html": [
       "<div>\n",
       "<style scoped>\n",
       "    .dataframe tbody tr th:only-of-type {\n",
       "        vertical-align: middle;\n",
       "    }\n",
       "\n",
       "    .dataframe tbody tr th {\n",
       "        vertical-align: top;\n",
       "    }\n",
       "\n",
       "    .dataframe thead th {\n",
       "        text-align: right;\n",
       "    }\n",
       "</style>\n",
       "<table border=\"1\" class=\"dataframe\">\n",
       "  <thead>\n",
       "    <tr style=\"text-align: right;\">\n",
       "      <th></th>\n",
       "      <th>song_title</th>\n",
       "    </tr>\n",
       "  </thead>\n",
       "  <tbody>\n",
       "    <tr>\n",
       "      <th>0</th>\n",
       "      <td>Sneakin’</td>\n",
       "    </tr>\n",
       "    <tr>\n",
       "      <th>1</th>\n",
       "      <td>Childs Play</td>\n",
       "    </tr>\n",
       "    <tr>\n",
       "      <th>2</th>\n",
       "      <td>Jumpman</td>\n",
       "    </tr>\n",
       "    <tr>\n",
       "      <th>3</th>\n",
       "      <td>Hotline Bling</td>\n",
       "    </tr>\n",
       "    <tr>\n",
       "      <th>4</th>\n",
       "      <td>Big Rings</td>\n",
       "    </tr>\n",
       "    <tr>\n",
       "      <th>5</th>\n",
       "      <td>Know Yourself</td>\n",
       "    </tr>\n",
       "    <tr>\n",
       "      <th>6</th>\n",
       "      <td>Wu-Tang Forever</td>\n",
       "    </tr>\n",
       "    <tr>\n",
       "      <th>7</th>\n",
       "      <td>Headlines</td>\n",
       "    </tr>\n",
       "    <tr>\n",
       "      <th>8</th>\n",
       "      <td>Started From the Bottom</td>\n",
       "    </tr>\n",
       "    <tr>\n",
       "      <th>9</th>\n",
       "      <td>Hold On, We're Going Home</td>\n",
       "    </tr>\n",
       "    <tr>\n",
       "      <th>10</th>\n",
       "      <td>Hold On, We're Going Home</td>\n",
       "    </tr>\n",
       "    <tr>\n",
       "      <th>11</th>\n",
       "      <td>0 To 100 / The Catch Up</td>\n",
       "    </tr>\n",
       "    <tr>\n",
       "      <th>12</th>\n",
       "      <td>Skepta Interlude</td>\n",
       "    </tr>\n",
       "  </tbody>\n",
       "</table>\n",
       "</div>"
      ],
      "text/plain": [
       "                   song_title\n",
       "0                    Sneakin’\n",
       "1                 Childs Play\n",
       "2                     Jumpman\n",
       "3               Hotline Bling\n",
       "4                   Big Rings\n",
       "5               Know Yourself\n",
       "6             Wu-Tang Forever\n",
       "7                   Headlines\n",
       "8     Started From the Bottom\n",
       "9   Hold On, We're Going Home\n",
       "10  Hold On, We're Going Home\n",
       "11    0 To 100 / The Catch Up\n",
       "12           Skepta Interlude"
      ]
     },
     "execution_count": 174,
     "metadata": {},
     "output_type": "execute_result"
    }
   ],
   "source": [
    "temp1[temp1['artist']=='Drake']['song_title'].reset_index(drop=True).reset_index().drop(columns=['index'])"
   ]
  },
  {
   "cell_type": "markdown",
   "metadata": {
    "heading_collapsed": true,
    "hidden": true
   },
   "source": [
    "### Most Disliked Artist"
   ]
  },
  {
   "cell_type": "code",
   "execution_count": 152,
   "metadata": {
    "hidden": true
   },
   "outputs": [
    {
     "data": {
      "text/html": [
       "<div>\n",
       "<style scoped>\n",
       "    .dataframe tbody tr th:only-of-type {\n",
       "        vertical-align: middle;\n",
       "    }\n",
       "\n",
       "    .dataframe tbody tr th {\n",
       "        vertical-align: top;\n",
       "    }\n",
       "\n",
       "    .dataframe thead th {\n",
       "        text-align: right;\n",
       "    }\n",
       "</style>\n",
       "<table border=\"1\" class=\"dataframe\">\n",
       "  <thead>\n",
       "    <tr style=\"text-align: right;\">\n",
       "      <th></th>\n",
       "      <th>index</th>\n",
       "      <th>artist</th>\n",
       "    </tr>\n",
       "  </thead>\n",
       "  <tbody>\n",
       "    <tr>\n",
       "      <th>0</th>\n",
       "      <td>WALK THE MOON</td>\n",
       "      <td>10</td>\n",
       "    </tr>\n",
       "    <tr>\n",
       "      <th>1</th>\n",
       "      <td>Backstreet Boys</td>\n",
       "      <td>10</td>\n",
       "    </tr>\n",
       "  </tbody>\n",
       "</table>\n",
       "</div>"
      ],
      "text/plain": [
       "             index  artist\n",
       "0    WALK THE MOON      10\n",
       "1  Backstreet Boys      10"
      ]
     },
     "execution_count": 152,
     "metadata": {},
     "output_type": "execute_result"
    }
   ],
   "source": [
    "temp2 = data[data['target']==0]\n",
    "disliked = temp2['artist'].value_counts().sort_values(ascending=False).reset_index()\n",
    "disliked[disliked['artist'] == max(disliked['artist'])]"
   ]
  },
  {
   "cell_type": "markdown",
   "metadata": {
    "heading_collapsed": true,
    "hidden": true
   },
   "source": [
    "### Most Disiked Songs by Bottom Artist "
   ]
  },
  {
   "cell_type": "code",
   "execution_count": 175,
   "metadata": {
    "hidden": true
   },
   "outputs": [
    {
     "data": {
      "text/html": [
       "<div>\n",
       "<style scoped>\n",
       "    .dataframe tbody tr th:only-of-type {\n",
       "        vertical-align: middle;\n",
       "    }\n",
       "\n",
       "    .dataframe tbody tr th {\n",
       "        vertical-align: top;\n",
       "    }\n",
       "\n",
       "    .dataframe thead th {\n",
       "        text-align: right;\n",
       "    }\n",
       "</style>\n",
       "<table border=\"1\" class=\"dataframe\">\n",
       "  <thead>\n",
       "    <tr style=\"text-align: right;\">\n",
       "      <th></th>\n",
       "      <th>song_title</th>\n",
       "    </tr>\n",
       "  </thead>\n",
       "  <tbody>\n",
       "    <tr>\n",
       "      <th>0</th>\n",
       "      <td>Shut Up and Dance</td>\n",
       "    </tr>\n",
       "    <tr>\n",
       "      <th>1</th>\n",
       "      <td>Anna Sun</td>\n",
       "    </tr>\n",
       "    <tr>\n",
       "      <th>2</th>\n",
       "      <td>Work This Body</td>\n",
       "    </tr>\n",
       "    <tr>\n",
       "      <th>3</th>\n",
       "      <td>Tightrope</td>\n",
       "    </tr>\n",
       "    <tr>\n",
       "      <th>4</th>\n",
       "      <td>Different Colors</td>\n",
       "    </tr>\n",
       "    <tr>\n",
       "      <th>5</th>\n",
       "      <td>Avalanche</td>\n",
       "    </tr>\n",
       "    <tr>\n",
       "      <th>6</th>\n",
       "      <td>Jenny</td>\n",
       "    </tr>\n",
       "    <tr>\n",
       "      <th>7</th>\n",
       "      <td>Portugal</td>\n",
       "    </tr>\n",
       "    <tr>\n",
       "      <th>8</th>\n",
       "      <td>Quesadilla</td>\n",
       "    </tr>\n",
       "    <tr>\n",
       "      <th>9</th>\n",
       "      <td>Aquaman</td>\n",
       "    </tr>\n",
       "  </tbody>\n",
       "</table>\n",
       "</div>"
      ],
      "text/plain": [
       "          song_title\n",
       "0  Shut Up and Dance\n",
       "1           Anna Sun\n",
       "2     Work This Body\n",
       "3          Tightrope\n",
       "4   Different Colors\n",
       "5          Avalanche\n",
       "6              Jenny\n",
       "7           Portugal\n",
       "8         Quesadilla\n",
       "9            Aquaman"
      ]
     },
     "execution_count": 175,
     "metadata": {},
     "output_type": "execute_result"
    }
   ],
   "source": [
    "temp2[temp2['artist']=='WALK THE MOON']['song_title'].reset_index(drop=True).reset_index().drop(columns=['index'])"
   ]
  },
  {
   "cell_type": "markdown",
   "metadata": {
    "heading_collapsed": true,
    "hidden": true
   },
   "source": [
    "### Top 10 Artists"
   ]
  },
  {
   "cell_type": "code",
   "execution_count": 164,
   "metadata": {
    "hidden": true
   },
   "outputs": [
    {
     "data": {
      "text/plain": [
       "<matplotlib.axes._subplots.AxesSubplot at 0x2ac37450>"
      ]
     },
     "execution_count": 164,
     "metadata": {},
     "output_type": "execute_result"
    },
    {
     "data": {
      "image/png": "[encoded data removed]",
      "text/plain": [
       "<Figure size 720x360 with 1 Axes>"
      ]
     },
     "metadata": {},
     "output_type": "display_data"
    }
   ],
   "source": [
    "plt.rcParams['figure.figsize'] = (10,5)\n",
    "plt.rcParams['font.size'] = 10.0\n",
    "liked.head(10).plot(x='index',y='artist',kind='bar')"
   ]
  },
  {
   "cell_type": "markdown",
   "metadata": {
    "heading_collapsed": true,
    "hidden": true
   },
   "source": [
    "### Top 10 Disliked Artists"
   ]
  },
  {
   "cell_type": "code",
   "execution_count": 165,
   "metadata": {
    "hidden": true
   },
   "outputs": [
    {
     "data": {
      "text/plain": [
       "<matplotlib.axes._subplots.AxesSubplot at 0x2a7ccc10>"
      ]
     },
     "execution_count": 165,
     "metadata": {},
     "output_type": "execute_result"
    },
    {
     "data": {
      "image/png": "[encoded data removed]",
      "text/plain": [
       "<Figure size 720x360 with 1 Axes>"
      ]
     },
     "metadata": {},
     "output_type": "display_data"
    }
   ],
   "source": [
    "plt.rcParams['figure.figsize'] = (10,5)\n",
    "plt.rcParams['font.size'] = 10.0\n",
    "disliked.head(10).plot(x='index',y='artist',kind='bar')"
   ]
  },
  {
   "cell_type": "markdown",
   "metadata": {
    "heading_collapsed": true,
    "hidden": true
   },
   "source": [
    "### Songs by any Artist"
   ]
  },
  {
   "cell_type": "code",
   "execution_count": 191,
   "metadata": {
    "hidden": true
   },
   "outputs": [
    {
     "name": "stdout",
     "output_type": "stream",
     "text": [
      "Drake\n"
     ]
    },
    {
     "data": {
      "application/vnd.jupyter.widget-view+json": {
       "model_id": "e2789471e45447459f5b560624206c2e",
       "version_major": 2,
       "version_minor": 0
      },
      "text/plain": [
       "interactive(children=(Text(value='Drake', description='Artist'), Output()), _dom_classes=('widget-interact',))"
      ]
     },
     "metadata": {},
     "output_type": "display_data"
    },
    {
     "data": {
      "text/plain": [
       "<function __main__.songs(Artist)>"
      ]
     },
     "execution_count": 191,
     "metadata": {},
     "output_type": "execute_result"
    }
   ],
   "source": [
    "def songs(Artist):\n",
    "    temp = data[data['artist'].str.contains(Artist)]['song_title'].reset_index(drop=True).reset_index().drop(columns=['index'])\n",
    "    print(temp)\n",
    "interact(songs,Artist=input())"
   ]
  },
  {
   "cell_type": "markdown",
   "metadata": {
    "heading_collapsed": true,
    "hidden": true
   },
   "source": [
    "### High Tempo Songs "
   ]
  },
  {
   "cell_type": "markdown",
   "metadata": {
    "hidden": true
   },
   "source": [
    "<b> Songs with > 75% tempo </b>"
   ]
  },
  {
   "cell_type": "code",
   "execution_count": 194,
   "metadata": {
    "hidden": true,
    "scrolled": true
   },
   "outputs": [
    {
     "data": {
      "text/html": [
       "<div>\n",
       "<style scoped>\n",
       "    .dataframe tbody tr th:only-of-type {\n",
       "        vertical-align: middle;\n",
       "    }\n",
       "\n",
       "    .dataframe tbody tr th {\n",
       "        vertical-align: top;\n",
       "    }\n",
       "\n",
       "    .dataframe thead th {\n",
       "        text-align: right;\n",
       "    }\n",
       "</style>\n",
       "<table border=\"1\" class=\"dataframe\">\n",
       "  <thead>\n",
       "    <tr style=\"text-align: right;\">\n",
       "      <th></th>\n",
       "      <th>index</th>\n",
       "      <th>artist</th>\n",
       "      <th>song_title</th>\n",
       "    </tr>\n",
       "  </thead>\n",
       "  <tbody>\n",
       "    <tr>\n",
       "      <th>0</th>\n",
       "      <td>0</td>\n",
       "      <td>Future</td>\n",
       "      <td>Mask Off</td>\n",
       "    </tr>\n",
       "    <tr>\n",
       "      <th>1</th>\n",
       "      <td>1</td>\n",
       "      <td>Childish Gambino</td>\n",
       "      <td>Redbone</td>\n",
       "    </tr>\n",
       "    <tr>\n",
       "      <th>2</th>\n",
       "      <td>4</td>\n",
       "      <td>Junior Boys</td>\n",
       "      <td>Parallel Lines</td>\n",
       "    </tr>\n",
       "    <tr>\n",
       "      <th>3</th>\n",
       "      <td>7</td>\n",
       "      <td>Omega</td>\n",
       "      <td>Gyöngyhajú lány</td>\n",
       "    </tr>\n",
       "    <tr>\n",
       "      <th>4</th>\n",
       "      <td>18</td>\n",
       "      <td>Chief Keef</td>\n",
       "      <td>Bouncin</td>\n",
       "    </tr>\n",
       "    <tr>\n",
       "      <th>5</th>\n",
       "      <td>22</td>\n",
       "      <td>Young Thug</td>\n",
       "      <td>Imma Ride</td>\n",
       "    </tr>\n",
       "    <tr>\n",
       "      <th>6</th>\n",
       "      <td>23</td>\n",
       "      <td>Ty Segall</td>\n",
       "      <td>Girlfriend</td>\n",
       "    </tr>\n",
       "    <tr>\n",
       "      <th>7</th>\n",
       "      <td>33</td>\n",
       "      <td>Young Thug</td>\n",
       "      <td>Hercules</td>\n",
       "    </tr>\n",
       "    <tr>\n",
       "      <th>8</th>\n",
       "      <td>36</td>\n",
       "      <td>Three 6 Mafia</td>\n",
       "      <td>Poppin' My Collar</td>\n",
       "    </tr>\n",
       "    <tr>\n",
       "      <th>9</th>\n",
       "      <td>37</td>\n",
       "      <td>Drake</td>\n",
       "      <td>Jumpman</td>\n",
       "    </tr>\n",
       "    <tr>\n",
       "      <th>10</th>\n",
       "      <td>41</td>\n",
       "      <td>ILoveMakonnen</td>\n",
       "      <td>I Don't Sell Molly No More</td>\n",
       "    </tr>\n",
       "    <tr>\n",
       "      <th>11</th>\n",
       "      <td>42</td>\n",
       "      <td>Riff Raff</td>\n",
       "      <td>Versace Python</td>\n",
       "    </tr>\n",
       "    <tr>\n",
       "      <th>12</th>\n",
       "      <td>44</td>\n",
       "      <td>Young M.A.</td>\n",
       "      <td>OOOUUU</td>\n",
       "    </tr>\n",
       "    <tr>\n",
       "      <th>13</th>\n",
       "      <td>58</td>\n",
       "      <td>Vince Staples</td>\n",
       "      <td>Dopeman</td>\n",
       "    </tr>\n",
       "    <tr>\n",
       "      <th>14</th>\n",
       "      <td>63</td>\n",
       "      <td>Portugal. The Man</td>\n",
       "      <td>Evil Friends (feat. Danny Brown) - Jake One Remix</td>\n",
       "    </tr>\n",
       "    <tr>\n",
       "      <th>15</th>\n",
       "      <td>81</td>\n",
       "      <td>Falcons</td>\n",
       "      <td>Aquafina (feat. GoldLink &amp; Chaz French)</td>\n",
       "    </tr>\n",
       "    <tr>\n",
       "      <th>16</th>\n",
       "      <td>82</td>\n",
       "      <td>How Sad</td>\n",
       "      <td>Hot Blur</td>\n",
       "    </tr>\n",
       "    <tr>\n",
       "      <th>17</th>\n",
       "      <td>83</td>\n",
       "      <td>Kool &amp; The Gang</td>\n",
       "      <td>Summer Madness</td>\n",
       "    </tr>\n",
       "    <tr>\n",
       "      <th>18</th>\n",
       "      <td>88</td>\n",
       "      <td>Gnonnas Pédro</td>\n",
       "      <td>Dadje Von O Von Non</td>\n",
       "    </tr>\n",
       "    <tr>\n",
       "      <th>19</th>\n",
       "      <td>95</td>\n",
       "      <td>Kwabs</td>\n",
       "      <td>Walk</td>\n",
       "    </tr>\n",
       "    <tr>\n",
       "      <th>20</th>\n",
       "      <td>98</td>\n",
       "      <td>Gayngs</td>\n",
       "      <td>The Gaudy Side of Town</td>\n",
       "    </tr>\n",
       "    <tr>\n",
       "      <th>21</th>\n",
       "      <td>102</td>\n",
       "      <td>Disclosure</td>\n",
       "      <td>Willing &amp; Able</td>\n",
       "    </tr>\n",
       "    <tr>\n",
       "      <th>22</th>\n",
       "      <td>108</td>\n",
       "      <td>The Chiffons</td>\n",
       "      <td>One Fine Day</td>\n",
       "    </tr>\n",
       "    <tr>\n",
       "      <th>23</th>\n",
       "      <td>118</td>\n",
       "      <td>Fetty Wap</td>\n",
       "      <td>679 (feat. Remy Boyz)</td>\n",
       "    </tr>\n",
       "    <tr>\n",
       "      <th>24</th>\n",
       "      <td>119</td>\n",
       "      <td>Fetty Wap</td>\n",
       "      <td>Trap Queen</td>\n",
       "    </tr>\n",
       "    <tr>\n",
       "      <th>25</th>\n",
       "      <td>122</td>\n",
       "      <td>Bassnectar</td>\n",
       "      <td>Speakerbox (feat. Lafa Taylor)</td>\n",
       "    </tr>\n",
       "    <tr>\n",
       "      <th>26</th>\n",
       "      <td>123</td>\n",
       "      <td>Rick Ross</td>\n",
       "      <td>Movin' Bass - GTA Remix</td>\n",
       "    </tr>\n",
       "    <tr>\n",
       "      <th>27</th>\n",
       "      <td>124</td>\n",
       "      <td>Brown Bird</td>\n",
       "      <td>Danger and Dread</td>\n",
       "    </tr>\n",
       "    <tr>\n",
       "      <th>28</th>\n",
       "      <td>130</td>\n",
       "      <td>Big K.R.I.T.</td>\n",
       "      <td>My Sub (Pt. 2: The Jackin') - Album Version (E...</td>\n",
       "    </tr>\n",
       "    <tr>\n",
       "      <th>29</th>\n",
       "      <td>136</td>\n",
       "      <td>The Cool Kids</td>\n",
       "      <td>Black Mags</td>\n",
       "    </tr>\n",
       "    <tr>\n",
       "      <th>...</th>\n",
       "      <td>...</td>\n",
       "      <td>...</td>\n",
       "      <td>...</td>\n",
       "    </tr>\n",
       "    <tr>\n",
       "      <th>466</th>\n",
       "      <td>1943</td>\n",
       "      <td>Geri Halliwell</td>\n",
       "      <td>Look At Me</td>\n",
       "    </tr>\n",
       "    <tr>\n",
       "      <th>467</th>\n",
       "      <td>1948</td>\n",
       "      <td>Michael Jackson</td>\n",
       "      <td>Earth Song - Remastered Version</td>\n",
       "    </tr>\n",
       "    <tr>\n",
       "      <th>468</th>\n",
       "      <td>1960</td>\n",
       "      <td>Donny Osmond</td>\n",
       "      <td>Puppy Love</td>\n",
       "    </tr>\n",
       "    <tr>\n",
       "      <th>469</th>\n",
       "      <td>1962</td>\n",
       "      <td>Peter Andre</td>\n",
       "      <td>Mysterious Girl</td>\n",
       "    </tr>\n",
       "    <tr>\n",
       "      <th>470</th>\n",
       "      <td>1966</td>\n",
       "      <td>Polina</td>\n",
       "      <td>To Roz Bikini (Itsy, Bitsy, Teenie, Weenie)</td>\n",
       "    </tr>\n",
       "    <tr>\n",
       "      <th>471</th>\n",
       "      <td>1968</td>\n",
       "      <td>Nickelback</td>\n",
       "      <td>Rockstar</td>\n",
       "    </tr>\n",
       "    <tr>\n",
       "      <th>472</th>\n",
       "      <td>1973</td>\n",
       "      <td>Nickelback</td>\n",
       "      <td>How You Remind Me - LP Mix</td>\n",
       "    </tr>\n",
       "    <tr>\n",
       "      <th>473</th>\n",
       "      <td>1976</td>\n",
       "      <td>Nickelback</td>\n",
       "      <td>When We Stand Together</td>\n",
       "    </tr>\n",
       "    <tr>\n",
       "      <th>474</th>\n",
       "      <td>1978</td>\n",
       "      <td>Lil Zay Poppin</td>\n",
       "      <td>Now I Do What I Want</td>\n",
       "    </tr>\n",
       "    <tr>\n",
       "      <th>475</th>\n",
       "      <td>1979</td>\n",
       "      <td>Jorge Quintero</td>\n",
       "      <td>300 Violin Orchestra</td>\n",
       "    </tr>\n",
       "    <tr>\n",
       "      <th>476</th>\n",
       "      <td>1986</td>\n",
       "      <td>WALK THE MOON</td>\n",
       "      <td>Anna Sun</td>\n",
       "    </tr>\n",
       "    <tr>\n",
       "      <th>477</th>\n",
       "      <td>1988</td>\n",
       "      <td>WALK THE MOON</td>\n",
       "      <td>Tightrope</td>\n",
       "    </tr>\n",
       "    <tr>\n",
       "      <th>478</th>\n",
       "      <td>1990</td>\n",
       "      <td>WALK THE MOON</td>\n",
       "      <td>Avalanche</td>\n",
       "    </tr>\n",
       "    <tr>\n",
       "      <th>479</th>\n",
       "      <td>1991</td>\n",
       "      <td>WALK THE MOON</td>\n",
       "      <td>Jenny</td>\n",
       "    </tr>\n",
       "    <tr>\n",
       "      <th>480</th>\n",
       "      <td>1992</td>\n",
       "      <td>WALK THE MOON</td>\n",
       "      <td>Portugal</td>\n",
       "    </tr>\n",
       "    <tr>\n",
       "      <th>481</th>\n",
       "      <td>1993</td>\n",
       "      <td>WALK THE MOON</td>\n",
       "      <td>Quesadilla</td>\n",
       "    </tr>\n",
       "    <tr>\n",
       "      <th>482</th>\n",
       "      <td>1997</td>\n",
       "      <td>The Chainsmokers</td>\n",
       "      <td>Don't Let Me Down - Zomboy Remix</td>\n",
       "    </tr>\n",
       "    <tr>\n",
       "      <th>483</th>\n",
       "      <td>1998</td>\n",
       "      <td>Alan Walker</td>\n",
       "      <td>Faded - Slushii Remix</td>\n",
       "    </tr>\n",
       "    <tr>\n",
       "      <th>484</th>\n",
       "      <td>1999</td>\n",
       "      <td>Tommie Sunshine</td>\n",
       "      <td>Can't Get Enough - Pegboard Nerds Remix</td>\n",
       "    </tr>\n",
       "    <tr>\n",
       "      <th>485</th>\n",
       "      <td>2000</td>\n",
       "      <td>San Holo</td>\n",
       "      <td>Light - Loosid Remix</td>\n",
       "    </tr>\n",
       "    <tr>\n",
       "      <th>486</th>\n",
       "      <td>2002</td>\n",
       "      <td>Steve Aoki</td>\n",
       "      <td>Without U</td>\n",
       "    </tr>\n",
       "    <tr>\n",
       "      <th>487</th>\n",
       "      <td>2003</td>\n",
       "      <td>Borgeous</td>\n",
       "      <td>Hold Up</td>\n",
       "    </tr>\n",
       "    <tr>\n",
       "      <th>488</th>\n",
       "      <td>2004</td>\n",
       "      <td>Lost Kings</td>\n",
       "      <td>Phone Down - Dodge &amp; Fuski Remix</td>\n",
       "    </tr>\n",
       "    <tr>\n",
       "      <th>489</th>\n",
       "      <td>2005</td>\n",
       "      <td>Elliphant</td>\n",
       "      <td>Spoon Me - Slushii Remix</td>\n",
       "    </tr>\n",
       "    <tr>\n",
       "      <th>490</th>\n",
       "      <td>2006</td>\n",
       "      <td>Martin Garrix</td>\n",
       "      <td>Scared To Be Lonely (Conro Remix)</td>\n",
       "    </tr>\n",
       "    <tr>\n",
       "      <th>491</th>\n",
       "      <td>2007</td>\n",
       "      <td>NERVO</td>\n",
       "      <td>Let It Go - Scott Melker &amp; Mister Gray Remix</td>\n",
       "    </tr>\n",
       "    <tr>\n",
       "      <th>492</th>\n",
       "      <td>2009</td>\n",
       "      <td>Kuuro</td>\n",
       "      <td>Aamon</td>\n",
       "    </tr>\n",
       "    <tr>\n",
       "      <th>493</th>\n",
       "      <td>2014</td>\n",
       "      <td>Rain Man</td>\n",
       "      <td>Habit - Dack Janiels &amp; Wenzday Remix</td>\n",
       "    </tr>\n",
       "    <tr>\n",
       "      <th>494</th>\n",
       "      <td>2015</td>\n",
       "      <td>Twin Moons</td>\n",
       "      <td>First Contact</td>\n",
       "    </tr>\n",
       "    <tr>\n",
       "      <th>495</th>\n",
       "      <td>2016</td>\n",
       "      <td>Bleachers</td>\n",
       "      <td>I Wanna Get Better</td>\n",
       "    </tr>\n",
       "  </tbody>\n",
       "</table>\n",
       "<p>496 rows × 3 columns</p>\n",
       "</div>"
      ],
      "text/plain": [
       "     index             artist  \\\n",
       "0        0             Future   \n",
       "1        1   Childish Gambino   \n",
       "2        4        Junior Boys   \n",
       "3        7              Omega   \n",
       "4       18         Chief Keef   \n",
       "5       22         Young Thug   \n",
       "6       23          Ty Segall   \n",
       "7       33         Young Thug   \n",
       "8       36      Three 6 Mafia   \n",
       "9       37              Drake   \n",
       "10      41      ILoveMakonnen   \n",
       "11      42          Riff Raff   \n",
       "12      44         Young M.A.   \n",
       "13      58      Vince Staples   \n",
       "14      63  Portugal. The Man   \n",
       "15      81            Falcons   \n",
       "16      82            How Sad   \n",
       "17      83    Kool & The Gang   \n",
       "18      88      Gnonnas Pédro   \n",
       "19      95              Kwabs   \n",
       "20      98             Gayngs   \n",
       "21     102         Disclosure   \n",
       "22     108       The Chiffons   \n",
       "23     118          Fetty Wap   \n",
       "24     119          Fetty Wap   \n",
       "25     122         Bassnectar   \n",
       "26     123          Rick Ross   \n",
       "27     124         Brown Bird   \n",
       "28     130       Big K.R.I.T.   \n",
       "29     136      The Cool Kids   \n",
       "..     ...                ...   \n",
       "466   1943     Geri Halliwell   \n",
       "467   1948    Michael Jackson   \n",
       "468   1960       Donny Osmond   \n",
       "469   1962        Peter Andre   \n",
       "470   1966             Polina   \n",
       "471   1968         Nickelback   \n",
       "472   1973         Nickelback   \n",
       "473   1976         Nickelback   \n",
       "474   1978     Lil Zay Poppin   \n",
       "475   1979     Jorge Quintero   \n",
       "476   1986      WALK THE MOON   \n",
       "477   1988      WALK THE MOON   \n",
       "478   1990      WALK THE MOON   \n",
       "479   1991      WALK THE MOON   \n",
       "480   1992      WALK THE MOON   \n",
       "481   1993      WALK THE MOON   \n",
       "482   1997   The Chainsmokers   \n",
       "483   1998        Alan Walker   \n",
       "484   1999    Tommie Sunshine   \n",
       "485   2000           San Holo   \n",
       "486   2002         Steve Aoki   \n",
       "487   2003           Borgeous   \n",
       "488   2004         Lost Kings   \n",
       "489   2005          Elliphant   \n",
       "490   2006      Martin Garrix   \n",
       "491   2007              NERVO   \n",
       "492   2009              Kuuro   \n",
       "493   2014           Rain Man   \n",
       "494   2015         Twin Moons   \n",
       "495   2016          Bleachers   \n",
       "\n",
       "                                            song_title  \n",
       "0                                             Mask Off  \n",
       "1                                              Redbone  \n",
       "2                                       Parallel Lines  \n",
       "3                                      Gyöngyhajú lány  \n",
       "4                                              Bouncin  \n",
       "5                                            Imma Ride  \n",
       "6                                           Girlfriend  \n",
       "7                                             Hercules  \n",
       "8                                    Poppin' My Collar  \n",
       "9                                              Jumpman  \n",
       "10                          I Don't Sell Molly No More  \n",
       "11                                      Versace Python  \n",
       "12                                              OOOUUU  \n",
       "13                                             Dopeman  \n",
       "14   Evil Friends (feat. Danny Brown) - Jake One Remix  \n",
       "15             Aquafina (feat. GoldLink & Chaz French)  \n",
       "16                                            Hot Blur  \n",
       "17                                      Summer Madness  \n",
       "18                                 Dadje Von O Von Non  \n",
       "19                                                Walk  \n",
       "20                              The Gaudy Side of Town  \n",
       "21                                      Willing & Able  \n",
       "22                                        One Fine Day  \n",
       "23                               679 (feat. Remy Boyz)  \n",
       "24                                          Trap Queen  \n",
       "25                      Speakerbox (feat. Lafa Taylor)  \n",
       "26                             Movin' Bass - GTA Remix  \n",
       "27                                    Danger and Dread  \n",
       "28   My Sub (Pt. 2: The Jackin') - Album Version (E...  \n",
       "29                                          Black Mags  \n",
       "..                                                 ...  \n",
       "466                                         Look At Me  \n",
       "467                    Earth Song - Remastered Version  \n",
       "468                                         Puppy Love  \n",
       "469                                    Mysterious Girl  \n",
       "470        To Roz Bikini (Itsy, Bitsy, Teenie, Weenie)  \n",
       "471                                           Rockstar  \n",
       "472                         How You Remind Me - LP Mix  \n",
       "473                             When We Stand Together  \n",
       "474                               Now I Do What I Want  \n",
       "475                               300 Violin Orchestra  \n",
       "476                                           Anna Sun  \n",
       "477                                          Tightrope  \n",
       "478                                          Avalanche  \n",
       "479                                              Jenny  \n",
       "480                                           Portugal  \n",
       "481                                         Quesadilla  \n",
       "482                   Don't Let Me Down - Zomboy Remix  \n",
       "483                              Faded - Slushii Remix  \n",
       "484            Can't Get Enough - Pegboard Nerds Remix  \n",
       "485                               Light - Loosid Remix  \n",
       "486                                          Without U  \n",
       "487                                            Hold Up  \n",
       "488                   Phone Down - Dodge & Fuski Remix  \n",
       "489                           Spoon Me - Slushii Remix  \n",
       "490                  Scared To Be Lonely (Conro Remix)  \n",
       "491       Let It Go - Scott Melker & Mister Gray Remix  \n",
       "492                                              Aamon  \n",
       "493               Habit - Dack Janiels & Wenzday Remix  \n",
       "494                                      First Contact  \n",
       "495                                 I Wanna Get Better  \n",
       "\n",
       "[496 rows x 3 columns]"
      ]
     },
     "execution_count": 194,
     "metadata": {},
     "output_type": "execute_result"
    }
   ],
   "source": [
    "data[data['tempo']>138][['artist','song_title']].reset_index()"
   ]
  },
  {
   "cell_type": "markdown",
   "metadata": {
    "heading_collapsed": true
   },
   "source": [
    "## Building a Decision Tree Model "
   ]
  },
  {
   "cell_type": "markdown",
   "metadata": {
    "hidden": true
   },
   "source": [
    "<b>Prepare the features to be trained on </b>"
   ]
  },
  {
   "cell_type": "code",
   "execution_count": 34,
   "metadata": {
    "hidden": true
   },
   "outputs": [],
   "source": [
    "features = cols\n",
    "features.remove('tempo')\n",
    "features.remove('mode')\n",
    "features.remove('liveness')"
   ]
  },
  {
   "cell_type": "markdown",
   "metadata": {
    "hidden": true
   },
   "source": [
    "<b>Splitting Data into test and train</b>"
   ]
  },
  {
   "cell_type": "code",
   "execution_count": 70,
   "metadata": {
    "hidden": true
   },
   "outputs": [],
   "source": [
    "train, test = train_test_split(data,test_size=0.15,random_state=2)"
   ]
  },
  {
   "cell_type": "code",
   "execution_count": 71,
   "metadata": {
    "hidden": true
   },
   "outputs": [
    {
     "name": "stdout",
     "output_type": "stream",
     "text": [
      "Train Size 1714 , Test Size 303 \n"
     ]
    }
   ],
   "source": [
    "print('Train Size {} , Test Size {} '.format(train.shape[0],test.shape[0]))"
   ]
  },
  {
   "cell_type": "markdown",
   "metadata": {
    "hidden": true
   },
   "source": [
    "<b>Prepare the Model </b>"
   ]
  },
  {
   "cell_type": "code",
   "execution_count": 72,
   "metadata": {
    "hidden": true
   },
   "outputs": [],
   "source": [
    "c = DecisionTreeClassifier(min_samples_split=100)"
   ]
  },
  {
   "cell_type": "code",
   "execution_count": 73,
   "metadata": {
    "hidden": true
   },
   "outputs": [],
   "source": [
    "X_train = train[features]\n",
    "y_train = train['target']\n",
    "\n",
    "X_test = test[features]\n",
    "y_test = test['target']"
   ]
  },
  {
   "cell_type": "markdown",
   "metadata": {
    "hidden": true
   },
   "source": [
    "<b>Fit the Model </b>"
   ]
  },
  {
   "cell_type": "code",
   "execution_count": 74,
   "metadata": {
    "hidden": true
   },
   "outputs": [],
   "source": [
    "dt = c.fit(X_train,y_train)"
   ]
  },
  {
   "cell_type": "markdown",
   "metadata": {
    "hidden": true
   },
   "source": [
    "<b>Predict <code>target</code> and Calculate R<sup>2</sup></b>"
   ]
  },
  {
   "cell_type": "code",
   "execution_count": 89,
   "metadata": {
    "hidden": true
   },
   "outputs": [
    {
     "name": "stdout",
     "output_type": "stream",
     "text": [
      "Accuracy of Decision Tree is 75.25 %\n"
     ]
    }
   ],
   "source": [
    "from sklearn.metrics import accuracy_score\n",
    "y_pred = c.predict(X_test)\n",
    "score = accuracy_score(y_test,y_pred)*100\n",
    "print('Accuracy of Decision Tree is {} %'.format(round(score,2)))"
   ]
  },
  {
   "cell_type": "markdown",
   "metadata": {
    "hidden": true
   },
   "source": [
    "<b>Scaling the Train and Test Data</b>"
   ]
  },
  {
   "cell_type": "code",
   "execution_count": 101,
   "metadata": {
    "hidden": true
   },
   "outputs": [
    {
     "name": "stdout",
     "output_type": "stream",
     "text": [
      "Accuracy of Decision Tree is 74.92 %\n"
     ]
    }
   ],
   "source": [
    "from sklearn.preprocessing import StandardScaler\n",
    "sc = StandardScaler()\n",
    "Xx = sc.fit_transform(X_train,y_train)\n",
    "xx = sc.fit_transform(X_test,y_test)\n",
    "d2 = c.fit(Xx,y_train)\n",
    "y_pred = c.predict(xx)\n",
    "score = accuracy_score(y_test,y_pred)*100\n",
    "print('Accuracy of Decision Tree is {} %'.format(round(score,2)))"
   ]
  },
  {
   "cell_type": "markdown",
   "metadata": {
    "hidden": true
   },
   "source": [
    "<b>Performing k-fold Cross-Validation</b>"
   ]
  },
  {
   "cell_type": "code",
   "execution_count": 76,
   "metadata": {
    "hidden": true
   },
   "outputs": [],
   "source": [
    "from sklearn.model_selection import cross_val_score\n",
    "s = {}\n",
    "cv = [x for x in range(2,20)]\n",
    "for x in cv:\n",
    "    score = cross_val_score(c,X_train,y_train,cv=x)\n",
    "    s[x] = np.mean(score)*100"
   ]
  },
  {
   "cell_type": "code",
   "execution_count": 103,
   "metadata": {
    "hidden": true
   },
   "outputs": [
    {
     "data": {
      "image/png": "[encoded data removed]",
      "text/plain": [
       "<Figure size 720x360 with 1 Axes>"
      ]
     },
     "metadata": {},
     "output_type": "display_data"
    }
   ],
   "source": [
    "l = s.items()\n",
    "x,y = zip(*l)\n",
    "plt.figure(figsize=(10,5))\n",
    "plt.xlim((2,20))\n",
    "plt.plot(x,y)\n",
    "plt.xlabel('k')\n",
    "plt.ylabel('Accuracy')\n",
    "plt.show()"
   ]
  },
  {
   "cell_type": "markdown",
   "metadata": {
    "heading_collapsed": true
   },
   "source": [
    "## <b>Visualize the Tree using Vizgraph</b>"
   ]
  },
  {
   "cell_type": "code",
   "execution_count": 79,
   "metadata": {
    "code_folding": [
     0
    ],
    "hidden": true
   },
   "outputs": [],
   "source": [
    "def show_tree(tree, features, path):\n",
    "    f = io.StringIO()\n",
    "    export_graphviz(tree,out_file = f,feature_names = features)\n",
    "    pydotplus.graph_from_dot_data(f.getvalue()).write_png(path)\n",
    "    img = misc.imread(path)\n",
    "    plt.rcParams['figure.figsize'] = (20,20)\n",
    "    plt.imshow(img)"
   ]
  },
  {
   "cell_type": "code",
   "execution_count": 78,
   "metadata": {
    "hidden": true
   },
   "outputs": [],
   "source": [
    "show_tree(dt,features,'tree_graph.png')"
   ]
  }
 ],
 "metadata": {
  "kernelspec": {
   "display_name": "Python 3",
   "language": "python",
   "name": "python3"
  }
 },
 "nbformat": 4,
 "nbformat_minor": 2
}
